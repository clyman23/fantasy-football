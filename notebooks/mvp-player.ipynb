{
 "cells": [
  {
   "cell_type": "markdown",
   "id": "ac3b057b",
   "metadata": {},
   "source": [
    "# MVP Player\n",
    "Who is everyone's MVP for the season? Who's the player that - if replaced with the league average player - made the biggest difference in wins/losses/points for?"
   ]
  },
  {
   "cell_type": "code",
   "execution_count": null,
   "id": "8cb40513",
   "metadata": {},
   "outputs": [],
   "source": []
  }
 ],
 "metadata": {
  "kernelspec": {
   "display_name": "Python 3",
   "language": "python",
   "name": "python3"
  },
  "language_info": {
   "codemirror_mode": {
    "name": "ipython",
    "version": 3
   },
   "file_extension": ".py",
   "mimetype": "text/x-python",
   "name": "python",
   "nbconvert_exporter": "python",
   "pygments_lexer": "ipython3",
   "version": "3.8.8"
  }
 },
 "nbformat": 4,
 "nbformat_minor": 5
}
